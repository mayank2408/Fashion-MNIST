{
 "cells": [
  {
   "cell_type": "code",
   "execution_count": 1,
   "metadata": {
    "collapsed": true
   },
   "outputs": [],
   "source": [
    "import torch \n",
    "import torch.nn.functional as F\n",
    "import torch.nn as nn\n",
    "from torchvision import datasets, models, transforms\n",
    "import torch.optim as optim\n",
    "import torchvision\n",
    "from torchvision.transforms import ToTensor\n",
    "from torch.utils.data import DataLoader\n",
    "#from skimage.util import random_noise\n",
    "from sklearn.metrics import confusion_matrix\n",
    "\n",
    "import numpy as np"
   ]
  },
  {
   "cell_type": "code",
   "execution_count": 9,
   "metadata": {
    "collapsed": true
   },
   "outputs": [],
   "source": [
    "class Neuralnet(nn.Module):\n",
    "    def __init__(self):\n",
    "        super(Neuralnet,self).__init__()\n",
    "        self.fc1=nn.Linear(784,550)\n",
    "        self.fc2=nn.Linear(550,300)\n",
    "        self.fc3=nn.Linear(300,150)\n",
    "        self.fc4=nn.Linear(150,80)\n",
    "        self.fc5=nn.Linear(80,10)\n",
    "    def forward(self,x):\n",
    "        x=x.view(-1,784)\n",
    "        x=F.dropout(F.relu(self.fc1(x)),p=0)\n",
    "        x=F.dropout(F.relu(self.fc2(x)),p=0.1)\n",
    "        x=F.dropout(F.relu(self.fc3(x)),p=0.1)\n",
    "        x=F.dropout(F.relu(self.fc4(x)),p=0.1)\n",
    "        x=self.fc5(x)\n",
    "        return x"
   ]
  },
  {
   "cell_type": "code",
   "execution_count": 10,
   "metadata": {
    "collapsed": true
   },
   "outputs": [],
   "source": [
    "class Neuralnet(nn.Module):\n",
    "    def __init__(self):\n",
    "        super(Neuralnet,self).__init__()\n",
    "        self.fc1=nn.Linear(784,500)\n",
    "        self.fc2=nn.BatchNorm1d(500)\n",
    "        self.fc3=nn.Linear(500,200)\n",
    "        self.fc4=nn.BatchNorm1d(200)\n",
    "        self.fc5=nn.Linear(200,60)\n",
    "        self.fc6=nn.BatchNorm1d(60)\n",
    "        self.fc7=nn.Linear(60,10)\n",
    "    def forward(self,x):\n",
    "        x=x.view(-1,784)\n",
    "        x=(self.fc1(x))\n",
    "        x=F.dropout(F.relu(self.fc2(x)),p=0.0)\n",
    "        x=(self.fc3(x))\n",
    "        x=F.dropout(F.relu(self.fc4(x)),p=0.0)\n",
    "        x=self.fc5(x)\n",
    "        x=F.dropout(F.relu(self.fc6(x)),p=0.0)\n",
    "        x=self.fc7(x)\n",
    "        return x"
   ]
  },
  {
   "cell_type": "code",
   "execution_count": 11,
   "metadata": {
    "collapsed": true
   },
   "outputs": [],
   "source": [
    "class CNN(nn.Module):\n",
    "    def __init__(self):\n",
    "        super(CNN,self).__init__()\n",
    "        self.conv1=nn.Conv2d(1,20,5)\n",
    "        #self.bn1=nn.BatchNorm2d(20)\n",
    "        self.conv2=nn.Conv2d(20,40,3)\n",
    "        self.bn2=nn.BatchNorm2d(40)\n",
    "        self.conv3=nn.Conv2d(40,80,3)\n",
    "        self.bn3=nn.BatchNorm2d(160)\n",
    "        self.conv4=nn.Conv2d(80,160,3)\n",
    "        self.conv5=nn.Conv2d(160,200,3)\n",
    "        self.fc1=nn.Linear(720,300)\n",
    "        self.fc2=nn.Linear(200,100)\n",
    "        self.fc3=nn.Linear(100,10)\n",
    "        self.pool=nn.MaxPool2d(2, 2)\n",
    "        self.pool2=nn.MaxPool2d(3, 2)\n",
    "    def forward(self,x):\n",
    "        x=x.view(-1,1,28,28)\n",
    "        x=(F.relu(self.conv1(x)))\n",
    "        x=self.pool(F.relu(self.bn2(self.conv2(x))))\n",
    "        x=(F.relu(self.conv3(x)))\n",
    "        x=self.pool2(F.relu(self.bn3(self.conv4(x))))\n",
    "        x=(F.relu(self.conv5(x)))\n",
    "        x=x.view(-1,200)\n",
    "        #x=F.dropout(F.relu(self.fc1(x)),p=0.1)\n",
    "        x=F.dropout(F.relu(self.fc2(x)),p=0.1)\n",
    "        x=self.fc3(x)\n",
    "        return x"
   ]
  },
  {
   "cell_type": "code",
   "execution_count": 29,
   "metadata": {
    "collapsed": true
   },
   "outputs": [],
   "source": [
    "class CNN(nn.Module):\n",
    "    def __init__(self):\n",
    "        super(CNN,self).__init__()\n",
    "        self.conv1=nn.Conv2d(1,20,5)\n",
    "        #self.bn1=nn.BatchNorm2d(20)\n",
    "        self.conv2=nn.Conv2d(20,40,3)\n",
    "        self.bn2=nn.BatchNorm2d(40)\n",
    "        self.conv3=nn.Conv2d(40,80,3)\n",
    "        self.bn3=nn.BatchNorm2d(160)\n",
    "        self.conv4=nn.Conv2d(80,160,3)\n",
    "        self.conv5=nn.Conv2d(160,200,3)\n",
    "        self.fc2=nn.Linear(200,200)\n",
    "        self.fc3=nn.Linear(200,10)\n",
    "        self.pool=nn.MaxPool2d(2, 2)\n",
    "        self.pool2=nn.MaxPool2d(3, 2)\n",
    "    def forward(self,x):\n",
    "        x=x.view(-1,1,28,28)\n",
    "        x=(F.relu(self.conv1(x)))\n",
    "        x=self.pool(F.relu(self.bn2(self.conv2(x))))\n",
    "        x=(F.relu(self.conv3(x)))\n",
    "        x=self.pool2(F.relu(self.bn3(self.conv4(x))))\n",
    "        x=(F.relu(self.conv5(x)))\n",
    "        x=x.view(-1,200)\n",
    "        #x=F.dropout(F.relu(self.fc1(x)),p=0.1)\n",
    "        x=F.relu(self.fc2(x))\n",
    "        x=self.fc3(x)\n",
    "        return x"
   ]
  },
  {
   "cell_type": "markdown",
   "metadata": {},
   "source": [
    " transform1 = transforms.Compose(\n",
    "    [transforms.ToTensor(),\n",
    "     transforms.Normalize([0.5],[0.5])],\n",
    "     transforms.RandomRotation())\n",
    "transform2 = transforms.Compose(\n",
    "    [transforms.ToTensor(),\n",
    "     transforms.Normalize([0.5],[0.5])])\n",
    "trainset = torchvision.datasets.FashionMNIST(root = \"./data\", train = True, download = False, transform = transform1)\n",
    "testset = torchvision.datasets.FashionMNIST(root = \"./data\", train = False, download = False, transform = transform2)\n",
    "train_ds, valid_ds = torch.utils.data.random_split(trainset, (50000, 10000))\n",
    "train_loader=DataLoader(train_ds,batch_size=32,shuffle=True,num_workers=2)\n",
    "val_loader=DataLoader(valid_ds,batch_size=32,shuffle=False,num_workers=2)\n",
    "test_loader=DataLoader(testset,batch_size=8,shuffle=False,num_workers=2)"
   ]
  },
  {
   "cell_type": "code",
   "execution_count": 2,
   "metadata": {
    "collapsed": true
   },
   "outputs": [],
   "source": [
    "transform1 = transforms.Compose(\n",
    "    [transforms.ToTensor(),\n",
    "     transforms.Normalize([0.5],[0.5])])\n",
    "transform2 = transforms.Compose(\n",
    "    [transforms.ToTensor(),\n",
    "     transforms.Normalize([0.5],[0.5])])\n",
    "trainset = torchvision.datasets.FashionMNIST(root = \"./data\", train = True, download = False, transform = transform1)\n",
    "testset = torchvision.datasets.FashionMNIST(root = \"./data\", train = False, download = False, transform = transform2)\n",
    "train_ds, valid_ds = torch.utils.data.random_split(trainset, (50000, 10000))\n",
    "train_loader=DataLoader(train_ds,batch_size=32,shuffle=True,num_workers=2)\n",
    "val_loader=DataLoader(valid_ds,batch_size=32,shuffle=False,num_workers=2)\n",
    "test_loader=DataLoader(testset,batch_size=8,shuffle=False,num_workers=2)"
   ]
  },
  {
   "cell_type": "code",
   "execution_count": 8,
   "metadata": {},
   "outputs": [
    {
     "name": "stdout",
     "output_type": "stream",
     "text": [
      "{'T-shirt/top': 0, 'Trouser': 1, 'Pullover': 2, 'Dress': 3, 'Coat': 4, 'Sandal': 5, 'Shirt': 6, 'Sneaker': 7, 'Bag': 8, 'Ankle boot': 9}\n",
      "['T-shirt/top', 'Trouser', 'Pullover', 'Dress', 'Coat', 'Sandal', 'Shirt', 'Sneaker', 'Bag', 'Ankle boot']\n"
     ]
    }
   ],
   "source": [
    "print(test_loader.dataset.class_to_idx)\n",
    "print(test_loader.dataset.classes)\n",
    "\n"
   ]
  },
  {
   "cell_type": "code",
   "execution_count": 14,
   "metadata": {},
   "outputs": [
    {
     "name": "stdout",
     "output_type": "stream",
     "text": [
      "Neuralnet(\n",
      "  (fc1): Linear(in_features=784, out_features=500, bias=True)\n",
      "  (fc2): BatchNorm1d(500, eps=1e-05, momentum=0.1, affine=True, track_running_stats=True)\n",
      "  (fc3): Linear(in_features=500, out_features=200, bias=True)\n",
      "  (fc4): BatchNorm1d(200, eps=1e-05, momentum=0.1, affine=True, track_running_stats=True)\n",
      "  (fc5): Linear(in_features=200, out_features=60, bias=True)\n",
      "  (fc6): BatchNorm1d(60, eps=1e-05, momentum=0.1, affine=True, track_running_stats=True)\n",
      "  (fc7): Linear(in_features=60, out_features=10, bias=True)\n",
      ")\n"
     ]
    }
   ],
   "source": [
    "model1=Neuralnet()\n",
    "print(model1)"
   ]
  },
  {
   "cell_type": "code",
   "execution_count": 24,
   "metadata": {
    "collapsed": true
   },
   "outputs": [],
   "source": [
    "def train(model,train_loader,val_loader,optimizer,criterion,scheduler,epochs,print_iter=5):\n",
    "    for i in range(epochs):\n",
    "        model.train()\n",
    "        for inputs,labels in train_loader:\n",
    "            inputs=inputs.to(device)\n",
    "            labels=labels.to(device)\n",
    "            optimizer.zero_grad()\n",
    "            output=model(inputs)\n",
    "            loss=criterion(output,labels)\n",
    "            loss.backward()\n",
    "            optimizer.step()\n",
    "        if (i%print_iter)==0:\n",
    "            model.eval()\n",
    "            running_corrects=0.0\n",
    "            running_loss=0.0\n",
    "            total=0.0\n",
    "            with torch.no_grad():\n",
    "                for inputs,labels in val_loader:\n",
    "                    inputs=inputs.to(device)\n",
    "                    labels=labels.to(device)\n",
    "                    optimizer.zero_grad()\n",
    "                    output=model(inputs)\n",
    "                    loss=criterion(output,labels)\n",
    "                    _,pred=torch.max(output, 1)\n",
    "                    running_corrects += torch.sum(pred == labels.data)\n",
    "                    running_loss+=loss.item()\n",
    "                    total+=inputs.size()[0]\n",
    "            print(' {} Loss: {:.6f} Acc: {:.6f}'.format(\n",
    "                  i,running_loss/total,(running_corrects/total)))\n",
    "        scheduler.step()\n",
    "    return model\n"
   ]
  },
  {
   "cell_type": "code",
   "execution_count": 19,
   "metadata": {},
   "outputs": [
    {
     "name": "stdout",
     "output_type": "stream",
     "text": [
      "cpu\n"
     ]
    }
   ],
   "source": [
    "lr=0.02\n",
    "optimizer=optim.Adam(model1.parameters(),lr,weight_decay=0.000)\n",
    "criterion=nn.CrossEntropyLoss()\n",
    "device = torch.device(\"cuda:0\" if torch.cuda.is_available() else \"cpu\")\n",
    "print(device.type)\n",
    "exp_lr_scheduler = optim.lr_scheduler.StepLR(optimizer, step_size=3, gamma=0.1)"
   ]
  },
  {
   "cell_type": "code",
   "execution_count": 20,
   "metadata": {},
   "outputs": [
    {
     "name": "stdout",
     "output_type": "stream",
     "text": [
      " 0 Loss: 0.042397 Acc: 0.492500\n"
     ]
    },
    {
     "ename": "KeyboardInterrupt",
     "evalue": "",
     "output_type": "error",
     "traceback": [
      "\u001b[0;31m---------------------------------------------------------------------------\u001b[0m",
      "\u001b[0;31mKeyboardInterrupt\u001b[0m                         Traceback (most recent call last)",
      "\u001b[0;32m<ipython-input-20-bdc28de22299>\u001b[0m in \u001b[0;36m<module>\u001b[0;34m()\u001b[0m\n\u001b[0;32m----> 1\u001b[0;31m \u001b[0mtrain\u001b[0m\u001b[0;34m(\u001b[0m\u001b[0mmodel1\u001b[0m\u001b[0;34m,\u001b[0m\u001b[0mtest_loader\u001b[0m\u001b[0;34m,\u001b[0m\u001b[0mval_loader\u001b[0m\u001b[0;34m,\u001b[0m\u001b[0moptimizer\u001b[0m\u001b[0;34m,\u001b[0m\u001b[0mcriterion\u001b[0m\u001b[0;34m,\u001b[0m\u001b[0mexp_lr_scheduler\u001b[0m\u001b[0;34m,\u001b[0m\u001b[0mepochs\u001b[0m\u001b[0;34m=\u001b[0m\u001b[0;36m20\u001b[0m\u001b[0;34m,\u001b[0m\u001b[0mprint_iter\u001b[0m\u001b[0;34m=\u001b[0m\u001b[0;36m1\u001b[0m\u001b[0;34m)\u001b[0m\u001b[0;34m\u001b[0m\u001b[0m\n\u001b[0m",
      "\u001b[0;32m<ipython-input-15-7ba5b94e0702>\u001b[0m in \u001b[0;36mtrain\u001b[0;34m(model, train_loader, val_loader, optimizer, criterion, scheduler, epochs, print_iter)\u001b[0m\n\u001b[1;32m      3\u001b[0m         \u001b[0mmodel\u001b[0m\u001b[0;34m.\u001b[0m\u001b[0mtrain\u001b[0m\u001b[0;34m(\u001b[0m\u001b[0;34m)\u001b[0m\u001b[0;34m\u001b[0m\u001b[0m\n\u001b[1;32m      4\u001b[0m         \u001b[0;32mfor\u001b[0m \u001b[0minputs\u001b[0m\u001b[0;34m,\u001b[0m\u001b[0mlabels\u001b[0m \u001b[0;32min\u001b[0m \u001b[0mtrain_loader\u001b[0m\u001b[0;34m:\u001b[0m\u001b[0;34m\u001b[0m\u001b[0m\n\u001b[0;32m----> 5\u001b[0;31m             \u001b[0minputs\u001b[0m\u001b[0;34m=\u001b[0m\u001b[0minputs\u001b[0m\u001b[0;34m.\u001b[0m\u001b[0mto\u001b[0m\u001b[0;34m(\u001b[0m\u001b[0mdevice\u001b[0m\u001b[0;34m)\u001b[0m\u001b[0;34m\u001b[0m\u001b[0m\n\u001b[0m\u001b[1;32m      6\u001b[0m             \u001b[0mlabels\u001b[0m\u001b[0;34m=\u001b[0m\u001b[0mlabels\u001b[0m\u001b[0;34m.\u001b[0m\u001b[0mto\u001b[0m\u001b[0;34m(\u001b[0m\u001b[0mdevice\u001b[0m\u001b[0;34m)\u001b[0m\u001b[0;34m\u001b[0m\u001b[0m\n\u001b[1;32m      7\u001b[0m             \u001b[0moptimizer\u001b[0m\u001b[0;34m.\u001b[0m\u001b[0mzero_grad\u001b[0m\u001b[0;34m(\u001b[0m\u001b[0;34m)\u001b[0m\u001b[0;34m\u001b[0m\u001b[0m\n",
      "\u001b[0;31mKeyboardInterrupt\u001b[0m: "
     ]
    }
   ],
   "source": [
    "train(model1,test_loader,val_loader,optimizer,criterion,exp_lr_scheduler,epochs=20,print_iter=1)"
   ]
  },
  {
   "cell_type": "code",
   "execution_count": 34,
   "metadata": {
    "collapsed": true
   },
   "outputs": [],
   "source": [
    "model2=CNN()"
   ]
  },
  {
   "cell_type": "code",
   "execution_count": 40,
   "metadata": {
    "collapsed": true
   },
   "outputs": [],
   "source": [
    "lr=0.001\n",
    "optimizer2=optim.Adam(model2.parameters(),lr,weight_decay=0.000)\n",
    "criterion2=nn.CrossEntropyLoss()\n",
    "device = torch.device(\"cuda:0\" if torch.cuda.is_available() else \"cpu\")\n",
    "exp_lr_scheduler2 = optim.lr_scheduler.StepLR(optimizer2, step_size=4, gamma=0.1)"
   ]
  },
  {
   "cell_type": "code",
   "execution_count": 41,
   "metadata": {},
   "outputs": [
    {
     "name": "stdout",
     "output_type": "stream",
     "text": [
      " 0 Loss: 0.012805 Acc: 0.860900\n",
      " 1 Loss: 0.012780 Acc: 0.863600\n",
      " 2 Loss: 0.013522 Acc: 0.862600\n",
      " 3 Loss: 0.013749 Acc: 0.866100\n",
      " 4 Loss: 0.012942 Acc: 0.868600\n",
      " 5 Loss: 0.013047 Acc: 0.868400\n",
      " 6 Loss: 0.013224 Acc: 0.870000\n",
      " 7 Loss: 0.013387 Acc: 0.869900\n",
      " 8 Loss: 0.013331 Acc: 0.870200\n",
      " 9 Loss: 0.013331 Acc: 0.870600\n",
      " 10 Loss: 0.013342 Acc: 0.871000\n",
      " 11 Loss: 0.013359 Acc: 0.870800\n"
     ]
    },
    {
     "data": {
      "text/plain": [
       "CNN(\n",
       "  (conv1): Conv2d(1, 20, kernel_size=(5, 5), stride=(1, 1))\n",
       "  (conv2): Conv2d(20, 40, kernel_size=(3, 3), stride=(1, 1))\n",
       "  (bn2): BatchNorm2d(40, eps=1e-05, momentum=0.1, affine=True, track_running_stats=True)\n",
       "  (conv3): Conv2d(40, 80, kernel_size=(3, 3), stride=(1, 1))\n",
       "  (bn3): BatchNorm2d(160, eps=1e-05, momentum=0.1, affine=True, track_running_stats=True)\n",
       "  (conv4): Conv2d(80, 160, kernel_size=(3, 3), stride=(1, 1))\n",
       "  (conv5): Conv2d(160, 200, kernel_size=(3, 3), stride=(1, 1))\n",
       "  (fc2): Linear(in_features=200, out_features=200, bias=True)\n",
       "  (fc3): Linear(in_features=200, out_features=10, bias=True)\n",
       "  (pool): MaxPool2d(kernel_size=2, stride=2, padding=0, dilation=1, ceil_mode=False)\n",
       "  (pool2): MaxPool2d(kernel_size=3, stride=2, padding=0, dilation=1, ceil_mode=False)\n",
       ")"
      ]
     },
     "execution_count": 41,
     "metadata": {},
     "output_type": "execute_result"
    }
   ],
   "source": [
    "train(model2,test_loader,val_loader,optimizer2,criterion2,exp_lr_scheduler2,epochs=12,print_iter=1)"
   ]
  },
  {
   "cell_type": "code",
   "execution_count": 37,
   "metadata": {
    "collapsed": true
   },
   "outputs": [],
   "source": [
    "def accuracy(model,train_loader):\n",
    "    model.eval()\n",
    "    running_corrects=0.0\n",
    "    running_loss=0.0\n",
    "    total=0.0\n",
    "    with torch.no_grad():\n",
    "        for inputs,labels in train_loader:\n",
    "            inputs=inputs.to(device)\n",
    "            labels=labels.to(device)\n",
    "            output=model(inputs)\n",
    "            _,pred=torch.max(output, 1)\n",
    "            running_corrects += torch.sum(pred == labels.data)\n",
    "            total+=inputs.size()[0]\n",
    "    print(' Acc: {:.6f}'.format((running_corrects/total)))\n",
    "    return running_corrects/total"
   ]
  },
  {
   "cell_type": "code",
   "execution_count": null,
   "metadata": {
    "collapsed": true
   },
   "outputs": [],
   "source": [
    "accuracy(model2,test_loader)"
   ]
  },
  {
   "cell_type": "code",
   "execution_count": 36,
   "metadata": {
    "collapsed": true
   },
   "outputs": [],
   "source": [
    "import pickle\n",
    "pickle.dump(model1, open(\"CNN43\", 'wb'))"
   ]
  },
  {
   "cell_type": "code",
   "execution_count": null,
   "metadata": {
    "collapsed": true
   },
   "outputs": [],
   "source": []
  }
 ],
 "metadata": {
  "kernelspec": {
   "display_name": "Python 3",
   "language": "python",
   "name": "python3"
  },
  "language_info": {
   "codemirror_mode": {
    "name": "ipython",
    "version": 3
   },
   "file_extension": ".py",
   "mimetype": "text/x-python",
   "name": "python",
   "nbconvert_exporter": "python",
   "pygments_lexer": "ipython3",
   "version": "3.6.3"
  }
 },
 "nbformat": 4,
 "nbformat_minor": 2
}
